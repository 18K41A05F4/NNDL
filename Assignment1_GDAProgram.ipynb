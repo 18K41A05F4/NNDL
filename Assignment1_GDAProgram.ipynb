{
  "nbformat": 4,
  "nbformat_minor": 0,
  "metadata": {
    "colab": {
      "name": "Assignment1_GDAProgram.ipynb",
      "provenance": [],
      "collapsed_sections": []
    },
    "kernelspec": {
      "name": "python3",
      "display_name": "Python 3"
    }
  },
  "cells": [
    {
      "cell_type": "code",
      "metadata": {
        "colab": {
          "base_uri": "https://localhost:8080/"
        },
        "id": "KXL47qQ97vkU",
        "outputId": "57f79914-7003-41d9-f115-2099e7632951"
      },
      "source": [
        "from sympy import *\r\n",
        "x=Symbol('x')\r\n",
        "y=diff(x**4+3*x**2+10,x)\r\n",
        "print(f'First order derivative is {y}')"
      ],
      "execution_count": 1,
      "outputs": [
        {
          "output_type": "stream",
          "text": [
            "First order derivative is 4*x**3 + 6*x\n"
          ],
          "name": "stdout"
        }
      ]
    },
    {
      "cell_type": "code",
      "metadata": {
        "colab": {
          "base_uri": "https://localhost:8080/"
        },
        "id": "ZNQnETap73HZ",
        "outputId": "0568c1a4-cddf-455f-d30c-5fd6ad6d2cab"
      },
      "source": [
        "x1=6.5\r\n",
        "itr=2\r\n",
        "learn_rate = 0.01  \r\n",
        "for i in range(0,itr):\r\n",
        "    x=symbols('x')\r\n",
        "    df=y.subs(x,x1) \r\n",
        "    df=round(df,2)\r\n",
        "    dx=(-1.0)*learn_rate*df\r\n",
        "    x1=x1 + dx\r\n",
        "    x1=round(x1, 2)\r\n",
        "print(f'Value of x={x1}')\r\n",
        "a=x1**4+3*x1**2+10\r\n",
        "print(f'Minimum value of f(x) at x={x1} is {a}')"
      ],
      "execution_count": 4,
      "outputs": [
        {
          "output_type": "stream",
          "text": [
            "Value of x=0.06\n",
            "Minimum value of f(x) at x=0.06 is 10.01081296\n"
          ],
          "name": "stdout"
        }
      ]
    }
  ]
}