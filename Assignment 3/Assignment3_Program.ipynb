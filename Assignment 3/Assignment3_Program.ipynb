{
  "nbformat": 4,
  "nbformat_minor": 0,
  "metadata": {
    "colab": {
      "name": "Assignment3_Program.ipynb",
      "provenance": []
    },
    "kernelspec": {
      "name": "python3",
      "display_name": "Python 3"
    },
    "language_info": {
      "name": "python"
    }
  },
  "cells": [
    {
      "cell_type": "code",
      "metadata": {
        "id": "aMZc-OSI3UMn",
        "outputId": "da18e436-7d17-478a-9e14-98cc9917abd8",
        "colab": {
          "base_uri": "https://localhost:8080/"
        }
      },
      "source": [
        "x=[0.2,0.4,0.6,0.8]\n",
        "y=[3.4,3.8,4.2,4.6]\n",
        "m=1\n",
        "c=-1\n",
        "n=0.1\n",
        "ns=4\n",
        "epoches=100\n",
        "def diffm(m,c,x,y):\n",
        "  return -1*(y-(m*x)-c)*x\n",
        "def diffc(m,c,x,y):\n",
        "  return -1*(y-(m*x)-c)\n",
        "for i in range(epoches):\n",
        "  for j in range(ns):\n",
        "    deltam=-1*n*diffm(m,c,x[j],y[j])\n",
        "    deltac=-1*n*diffc(m,c,x[j],y[j])\n",
        "    m=m+deltam\n",
        "    c=c+deltac\n",
        "print(f'Value of m is {m}\\nValue of c is {c}')"
      ],
      "execution_count": 1,
      "outputs": [
        {
          "output_type": "stream",
          "text": [
            "Value of m is 2.1388522737865148\n",
            "Value of c is 2.922605293889677\n"
          ],
          "name": "stdout"
        }
      ]
    },
    {
      "cell_type": "code",
      "metadata": {
        "id": "QT9J86s-3VpB"
      },
      "source": [
        ""
      ],
      "execution_count": null,
      "outputs": []
    }
  ]
}