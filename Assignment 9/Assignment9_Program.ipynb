{
  "nbformat": 4,
  "nbformat_minor": 0,
  "metadata": {
    "colab": {
      "name": "Assignment9_Program.ipynb",
      "provenance": [],
      "collapsed_sections": []
    },
    "kernelspec": {
      "name": "python3",
      "display_name": "Python 3"
    }
  },
  "cells": [
    {
      "cell_type": "code",
      "metadata": {
        "id": "3a37E8HIVlhV"
      },
      "source": [
        "import numpy as np\n",
        "import pandas as pd\n",
        "import matplotlib.pyplot as plt"
      ],
      "execution_count": 7,
      "outputs": []
    },
    {
      "cell_type": "code",
      "metadata": {
        "id": "PGThCtwuVntB",
        "colab": {
          "base_uri": "https://localhost:8080/"
        },
        "outputId": "06700b30-f94a-46fd-c367-a6c222fd1726"
      },
      "source": [
        "data = [[0.2,3.4],[0.4,3.8],[0.6,4.2],[0.8,4.6]]\n",
        "data = np.array(data)\n",
        "data"
      ],
      "execution_count": 4,
      "outputs": [
        {
          "output_type": "execute_result",
          "data": {
            "text/plain": [
              "array([[0.2, 3.4],\n",
              "       [0.4, 3.8],\n",
              "       [0.6, 4.2],\n",
              "       [0.8, 4.6]])"
            ]
          },
          "metadata": {
            "tags": []
          },
          "execution_count": 4
        }
      ]
    },
    {
      "cell_type": "code",
      "metadata": {
        "id": "GEHGAte5Vusj"
      },
      "source": [
        "data_x = []\n",
        "data_y = []\n",
        "for i in range(0,len(data)):\n",
        "  data_x.append(data[i][0])\n",
        "for i in range(0,len(data)):\n",
        "  data_y.append(data[i][1])\n",
        "data_x=np.array(data_x)\n",
        "data_y=np.array(data_y)"
      ],
      "execution_count": 5,
      "outputs": []
    },
    {
      "cell_type": "code",
      "metadata": {
        "id": "Eja61oxcVwxz"
      },
      "source": [
        "m = 1\n",
        "c = -1\n",
        "iter = 1\n",
        "epochs = 10000\n",
        "alpha = 0.1\n",
        "ns = len(data)\n",
        "vm = 0\n",
        "vc = 0\n",
        "moment = 0.9"
      ],
      "execution_count": 6,
      "outputs": []
    },
    {
      "cell_type": "code",
      "metadata": {
        "colab": {
          "base_uri": "https://localhost:8080/"
        },
        "id": "VFSv-MJ6V7Ql",
        "outputId": "5de9a42d-81da-4235-f18c-d20ca0940f52"
      },
      "source": [
        "while (iter<=epochs):\n",
        "  for i in range(0,len(data)):\n",
        "    der_m = (-1) * ((data_y[i] - (m * data_x[i]) - c ))*(data_x[i])\n",
        "    der_c = (-1) * (data_y[i] - (m * data_x[i]) - c )\n",
        "    vm = (moment * vm) - (alpha * der_m)\n",
        "    vc = (moment * vc) - (alpha * der_c)\n",
        "    m = m + vm\n",
        "    c = c + vc\n",
        "  iter = iter + 1\n",
        "print(\"m=\",m,\"\\nc=\",c)"
      ],
      "execution_count": 8,
      "outputs": [
        {
          "output_type": "stream",
          "text": [
            "m= 1.9999999999999998 \n",
            "c= 3.0\n"
          ],
          "name": "stdout"
        }
      ]
    },
    {
      "cell_type": "code",
      "metadata": {
        "colab": {
          "base_uri": "https://localhost:8080/"
        },
        "id": "yn-srTM1Z3D8",
        "outputId": "f8dc643f-2c49-4ef5-d739-9357e42534c2"
      },
      "source": [
        "mse = 0\n",
        "for i in range(0,len(data_x)):\n",
        "  mse += (data_y[i] - (m*data_x[i]) - c)**2\n",
        "mse = mse/len(data)\n",
        "print(\"Mean Square Error:\",mse)"
      ],
      "execution_count": 9,
      "outputs": [
        {
          "output_type": "stream",
          "text": [
            "Mean Square Error: 4.930380657631324e-32\n"
          ],
          "name": "stdout"
        }
      ]
    },
    {
      "cell_type": "code",
      "metadata": {
        "colab": {
          "base_uri": "https://localhost:8080/"
        },
        "id": "25-ciRIZadIK",
        "outputId": "b14030da-d5fc-4f0f-d298-d23bf2b0738b"
      },
      "source": [
        "pred = []\n",
        "print(\"predicted\",\" original\")\n",
        "for i in range(0,len(data)):\n",
        "  pred.append(m*data_x[i] + c)\n",
        "pred"
      ],
      "execution_count": 10,
      "outputs": [
        {
          "output_type": "stream",
          "text": [
            "predicted  original\n"
          ],
          "name": "stdout"
        },
        {
          "output_type": "execute_result",
          "data": {
            "text/plain": [
              "[3.4, 3.8, 4.199999999999999, 4.6]"
            ]
          },
          "metadata": {
            "tags": []
          },
          "execution_count": 10
        }
      ]
    },
    {
      "cell_type": "code",
      "metadata": {
        "id": "q4lCUkUbbn-i",
        "colab": {
          "base_uri": "https://localhost:8080/",
          "height": 295
        },
        "outputId": "8527fb43-f45e-4e9e-b16a-732648c0c7da"
      },
      "source": [
        "plt.scatter(data_x,data_y,label=\"original data points\")\n",
        "plt.plot(data_x,pred,'orange',label=\"regression line using MGD\")\n",
        "plt.legend()\n",
        "plt.grid()\n",
        "plt.title(\"Linear Regression using Momentum gradient descent\")\n",
        "plt.xlabel(\"data x\")\n",
        "plt.ylabel(\"data y\")\n",
        "plt.show()"
      ],
      "execution_count": 11,
      "outputs": [
        {
          "output_type": "display_data",
          "data": {
            "image/png": "[encoded data removed]",
            "text/plain": [
              "<Figure size 432x288 with 1 Axes>"
            ]
          },
          "metadata": {
            "tags": [],
            "needs_background": "light"
          }
        }
      ]
    }
  ]
}