{
  "nbformat": 4,
  "nbformat_minor": 0,
  "metadata": {
    "colab": {
      "name": "Assignment2_Program.ipynb",
      "provenance": []
    },
    "kernelspec": {
      "name": "python3",
      "display_name": "Python 3"
    },
    "language_info": {
      "name": "python"
    }
  },
  "cells": [
    {
      "cell_type": "code",
      "metadata": {
        "colab": {
          "base_uri": "https://localhost:8080/"
        },
        "id": "Z6fqo04_y4gk",
        "outputId": "4aa40125-8673-4c9d-e8d7-fc355b573dbd"
      },
      "source": [
        "itr=100\n",
        "learningrate=0.01\n",
        "x=1\n",
        "y=-1\n",
        "def diffx(x):\n",
        "\treturn 2*x\t\n",
        "def diffy(y):\n",
        "\treturn 2*y\n",
        "for i in range(itr):\n",
        "    deltax=-1*learningrate*diffx(x)\n",
        "    deltay=-1*learningrate*diffy(y)\n",
        "    x=x+deltax\n",
        "    y=y+deltay\n",
        "print(\"Optimal value of x:\",x,\"\\nOptimal value of y:\",y)\n",
        "print(\"Global Minimum Point: \",(x**2)+(y**2)+10)"
      ],
      "execution_count": 4,
      "outputs": [
        {
          "output_type": "stream",
          "text": [
            "Optimal value of x: 0.13261955589475316 \n",
            "Optimal value of y: -0.13261955589475316\n",
            "Global Minimum Point:  10.035175893211443\n"
          ],
          "name": "stdout"
        }
      ]
    }
  ]
}