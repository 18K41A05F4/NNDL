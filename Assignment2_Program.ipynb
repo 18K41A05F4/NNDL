{
  "nbformat": 4,
  "nbformat_minor": 0,
  "metadata": {
    "colab": {
      "name": "Assignment2_Program.ipynb",
      "provenance": [],
      "authorship_tag": "ABX9TyPre6uq3hxKp8IXxlKO0sIo"
    },
    "kernelspec": {
      "name": "python3",
      "display_name": "Python 3"
    }
  },
  "cells": [
    {
      "cell_type": "code",
      "metadata": {
        "colab": {
          "base_uri": "https://localhost:8080/"
        },
        "id": "zE_dH4VU_HsM",
        "outputId": "5b79dbdd-4197-4f2b-b2de-a9088b456f3f"
      },
      "source": [
        "itr=100\r\n",
        "learningrate=0.01\r\n",
        "x=1\r\n",
        "y=-1\r\n",
        "def diffx(x):\r\n",
        "\treturn 2*x\t\r\n",
        "def diffy(y):\r\n",
        "\treturn 2*y\r\n",
        "for i in range(itr):\r\n",
        "    deltax=-1*learningrate*diffx(x)\r\n",
        "    deltay=-1*learningrate*diffy(y)\r\n",
        "    x=x+deltax\r\n",
        "    y=y+deltay\r\n",
        "print(\"Optimal value of x:\",x,\"\\nOptimal value of y:\",y)"
      ],
      "execution_count": 8,
      "outputs": [
        {
          "output_type": "stream",
          "text": [
            "Optimal value of x: 0.13261955589475316 \n",
            "Optimal value of y: -0.13261955589475316\n"
          ],
          "name": "stdout"
        }
      ]
    }
  ]
}