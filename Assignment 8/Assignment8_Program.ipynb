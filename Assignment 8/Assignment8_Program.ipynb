{
  "nbformat": 4,
  "nbformat_minor": 0,
  "metadata": {
    "colab": {
      "name": "Assignment8_Program.ipynb",
      "provenance": [],
      "collapsed_sections": []
    },
    "kernelspec": {
      "display_name": "Python 3",
      "language": "python",
      "name": "python3"
    },
    "language_info": {
      "codemirror_mode": {
        "name": "ipython",
        "version": 3
      },
      "file_extension": ".py",
      "mimetype": "text/x-python",
      "name": "python",
      "nbconvert_exporter": "python",
      "pygments_lexer": "ipython3",
      "version": "3.7.7"
    }
  },
  "cells": [
    {
      "cell_type": "code",
      "metadata": {
        "id": "gKDFywAGBPsy"
      },
      "source": [
        "import numpy as np\n",
        "import pandas as pd\n",
        "import matplotlib.pyplot as plt\n",
        "import seaborn as sns\n",
        "from sklearn.preprocessing import minmax_scale"
      ],
      "execution_count": 3,
      "outputs": []
    },
    {
      "cell_type": "code",
      "metadata": {
        "colab": {
          "base_uri": "https://localhost:8080/",
          "height": 204
        },
        "id": "wlcHXsVrFpNa",
        "outputId": "2280dd3a-87d0-49d0-a530-ea8829ede487"
      },
      "source": [
        "data = pd.read_csv(\"water.csv\")\n",
        "data.head()"
      ],
      "execution_count": 4,
      "outputs": [
        {
          "output_type": "execute_result",
          "data": {
            "text/html": [
              "<div>\n",
              "<style scoped>\n",
              "    .dataframe tbody tr th:only-of-type {\n",
              "        vertical-align: middle;\n",
              "    }\n",
              "\n",
              "    .dataframe tbody tr th {\n",
              "        vertical-align: top;\n",
              "    }\n",
              "\n",
              "    .dataframe thead th {\n",
              "        text-align: right;\n",
              "    }\n",
              "</style>\n",
              "<table border=\"1\" class=\"dataframe\">\n",
              "  <thead>\n",
              "    <tr style=\"text-align: right;\">\n",
              "      <th></th>\n",
              "      <th>X</th>\n",
              "      <th>Y</th>\n",
              "    </tr>\n",
              "  </thead>\n",
              "  <tbody>\n",
              "    <tr>\n",
              "      <th>0</th>\n",
              "      <td>75.1</td>\n",
              "      <td>577.8</td>\n",
              "    </tr>\n",
              "    <tr>\n",
              "      <th>1</th>\n",
              "      <td>74.3</td>\n",
              "      <td>577.0</td>\n",
              "    </tr>\n",
              "    <tr>\n",
              "      <th>2</th>\n",
              "      <td>88.7</td>\n",
              "      <td>570.9</td>\n",
              "    </tr>\n",
              "    <tr>\n",
              "      <th>3</th>\n",
              "      <td>114.6</td>\n",
              "      <td>578.6</td>\n",
              "    </tr>\n",
              "    <tr>\n",
              "      <th>4</th>\n",
              "      <td>98.5</td>\n",
              "      <td>572.4</td>\n",
              "    </tr>\n",
              "  </tbody>\n",
              "</table>\n",
              "</div>"
            ],
            "text/plain": [
              "       X      Y\n",
              "0   75.1  577.8\n",
              "1   74.3  577.0\n",
              "2   88.7  570.9\n",
              "3  114.6  578.6\n",
              "4   98.5  572.4"
            ]
          },
          "metadata": {
            "tags": []
          },
          "execution_count": 4
        }
      ]
    },
    {
      "cell_type": "code",
      "metadata": {
        "colab": {
          "base_uri": "https://localhost:8080/",
          "height": 297
        },
        "id": "5g-iXPmvF145",
        "outputId": "36a487be-3811-425d-af24-e0a415708dda"
      },
      "source": [
        "data.describe()"
      ],
      "execution_count": 5,
      "outputs": [
        {
          "output_type": "execute_result",
          "data": {
            "text/html": [
              "<div>\n",
              "<style scoped>\n",
              "    .dataframe tbody tr th:only-of-type {\n",
              "        vertical-align: middle;\n",
              "    }\n",
              "\n",
              "    .dataframe tbody tr th {\n",
              "        vertical-align: top;\n",
              "    }\n",
              "\n",
              "    .dataframe thead th {\n",
              "        text-align: right;\n",
              "    }\n",
              "</style>\n",
              "<table border=\"1\" class=\"dataframe\">\n",
              "  <thead>\n",
              "    <tr style=\"text-align: right;\">\n",
              "      <th></th>\n",
              "      <th>X</th>\n",
              "      <th>Y</th>\n",
              "    </tr>\n",
              "  </thead>\n",
              "  <tbody>\n",
              "    <tr>\n",
              "      <th>count</th>\n",
              "      <td>30.000000</td>\n",
              "      <td>30.000000</td>\n",
              "    </tr>\n",
              "    <tr>\n",
              "      <th>mean</th>\n",
              "      <td>90.273333</td>\n",
              "      <td>514.963333</td>\n",
              "    </tr>\n",
              "    <tr>\n",
              "      <th>std</th>\n",
              "      <td>16.986078</td>\n",
              "      <td>39.535096</td>\n",
              "    </tr>\n",
              "    <tr>\n",
              "      <th>min</th>\n",
              "      <td>62.200000</td>\n",
              "      <td>406.700000</td>\n",
              "    </tr>\n",
              "    <tr>\n",
              "      <th>25%</th>\n",
              "      <td>75.300000</td>\n",
              "      <td>505.250000</td>\n",
              "    </tr>\n",
              "    <tr>\n",
              "      <th>50%</th>\n",
              "      <td>89.150000</td>\n",
              "      <td>510.100000</td>\n",
              "    </tr>\n",
              "    <tr>\n",
              "      <th>75%</th>\n",
              "      <td>104.375000</td>\n",
              "      <td>519.850000</td>\n",
              "    </tr>\n",
              "    <tr>\n",
              "      <th>max</th>\n",
              "      <td>120.000000</td>\n",
              "      <td>578.600000</td>\n",
              "    </tr>\n",
              "  </tbody>\n",
              "</table>\n",
              "</div>"
            ],
            "text/plain": [
              "                X           Y\n",
              "count   30.000000   30.000000\n",
              "mean    90.273333  514.963333\n",
              "std     16.986078   39.535096\n",
              "min     62.200000  406.700000\n",
              "25%     75.300000  505.250000\n",
              "50%     89.150000  510.100000\n",
              "75%    104.375000  519.850000\n",
              "max    120.000000  578.600000"
            ]
          },
          "metadata": {
            "tags": []
          },
          "execution_count": 5
        }
      ]
    },
    {
      "cell_type": "code",
      "metadata": {
        "colab": {
          "base_uri": "https://localhost:8080/"
        },
        "id": "OOZmKH_jYCiN",
        "outputId": "c13cdb75-4a1f-4064-e07e-ba6b57912edc"
      },
      "source": [
        "data.isnull().sum()"
      ],
      "execution_count": 6,
      "outputs": [
        {
          "output_type": "execute_result",
          "data": {
            "text/plain": [
              "X    0\n",
              "Y    0\n",
              "dtype: int64"
            ]
          },
          "metadata": {
            "tags": []
          },
          "execution_count": 6
        }
      ]
    },
    {
      "cell_type": "code",
      "metadata": {
        "colab": {
          "base_uri": "https://localhost:8080/",
          "height": 296
        },
        "id": "e7DqryviF12I",
        "outputId": "3956c5a5-9793-40ad-fa8b-53b1ffff6d7c"
      },
      "source": [
        "sns.boxplot(x=data['X'])\n"
      ],
      "execution_count": 7,
      "outputs": [
        {
          "output_type": "execute_result",
          "data": {
            "text/plain": [
              "<matplotlib.axes._subplots.AxesSubplot at 0x7fc95e216b10>"
            ]
          },
          "metadata": {
            "tags": []
          },
          "execution_count": 7
        },
        {
          "output_type": "display_data",
          "data": {
            "image/png": "[encoded data removed]",
            "text/plain": [
              "<Figure size 432x288 with 1 Axes>"
            ]
          },
          "metadata": {
            "tags": [],
            "needs_background": "light"
          }
        }
      ]
    },
    {
      "cell_type": "code",
      "metadata": {
        "colab": {
          "base_uri": "https://localhost:8080/",
          "height": 296
        },
        "id": "skZIcDgNm3xL",
        "outputId": "cd1184ed-d7b9-4850-bd82-1d4ad204d479"
      },
      "source": [
        "sns.boxplot(x=data['Y'])"
      ],
      "execution_count": 8,
      "outputs": [
        {
          "output_type": "execute_result",
          "data": {
            "text/plain": [
              "<matplotlib.axes._subplots.AxesSubplot at 0x7fc95e1602d0>"
            ]
          },
          "metadata": {
            "tags": []
          },
          "execution_count": 8
        },
        {
          "output_type": "display_data",
          "data": {
            "image/png": "[encoded data removed]",
            "text/plain": [
              "<Figure size 432x288 with 1 Axes>"
            ]
          },
          "metadata": {
            "tags": [],
            "needs_background": "light"
          }
        }
      ]
    },
    {
      "cell_type": "code",
      "metadata": {
        "colab": {
          "base_uri": "https://localhost:8080/"
        },
        "id": "JUDrUo87F1zn",
        "outputId": "55a5e2ea-16ce-4b96-d296-4c343f4e9ba4"
      },
      "source": [
        "from scipy import stats\n",
        "import numpy as np\n",
        "z = np.abs(stats.zscore(data))\n",
        "print(z)"
      ],
      "execution_count": 10,
      "outputs": [
        {
          "output_type": "stream",
          "text": [
            "[[0.90855142 1.61656054]\n",
            " [0.95645395 1.59597943]\n",
            " [0.09420832 1.43904846]\n",
            " [1.45663625 1.63714165]\n",
            " [0.49259774 1.47763804]\n",
            " [1.30095302 2.6694559 ]\n",
            " [1.46861189 0.430574  ]\n",
            " [1.68097979 1.25896373]\n",
            " [1.00156217 2.78522465]\n",
            " [0.01357238 0.20229517]\n",
            " [0.98639304 0.47756754]\n",
            " [1.52849006 0.25117531]\n",
            " [0.54648809 0.22030365]\n",
            " [0.16326781 0.12254337]\n",
            " [0.98040522 0.28461962]\n",
            " [1.4714062  0.22544892]\n",
            " [1.44146712 0.22287629]\n",
            " [0.74089254 0.12254337]\n",
            " [1.16922104 0.16370559]\n",
            " [0.9057571  0.10453489]\n",
            " [0.10019614 0.24603004]\n",
            " [0.04031797 0.05565476]\n",
            " [0.98639304 0.31291865]\n",
            " [0.66025661 0.56503726]\n",
            " [1.77997837 0.10710753]\n",
            " [0.86064888 0.05565476]\n",
            " [0.84268543 0.04021892]\n",
            " [0.50137987 0.12768865]\n",
            " [0.35767226 0.27432906]\n",
            " [0.46265865 0.18102803]]\n"
          ],
          "name": "stdout"
        }
      ]
    },
    {
      "cell_type": "code",
      "metadata": {
        "colab": {
          "base_uri": "https://localhost:8080/"
        },
        "id": "c7hIzih1F1w5",
        "outputId": "af23d134-f053-4e46-9ef6-97e9933409fb"
      },
      "source": [
        "threshold = 3\n",
        "print(np.where(z > 3))"
      ],
      "execution_count": 11,
      "outputs": [
        {
          "output_type": "stream",
          "text": [
            "(array([], dtype=int64), array([], dtype=int64))\n"
          ],
          "name": "stdout"
        }
      ]
    },
    {
      "cell_type": "code",
      "metadata": {
        "colab": {
          "base_uri": "https://localhost:8080/",
          "height": 282
        },
        "id": "64btwcnUHU8l",
        "outputId": "ad04b7f5-c65c-4812-d21c-2e73d4fe4c45"
      },
      "source": [
        "plt.scatter(data['X'],data['Y'])"
      ],
      "execution_count": 12,
      "outputs": [
        {
          "output_type": "execute_result",
          "data": {
            "text/plain": [
              "<matplotlib.collections.PathCollection at 0x7fc95dce1fd0>"
            ]
          },
          "metadata": {
            "tags": []
          },
          "execution_count": 12
        },
        {
          "output_type": "display_data",
          "data": {
            "image/png": "[encoded data removed]",
            "text/plain": [
              "<Figure size 432x288 with 1 Axes>"
            ]
          },
          "metadata": {
            "tags": [],
            "needs_background": "light"
          }
        }
      ]
    },
    {
      "cell_type": "code",
      "metadata": {
        "colab": {
          "base_uri": "https://localhost:8080/"
        },
        "id": "XePpunVvBeR4",
        "outputId": "4a45645a-1538-48a0-b2fb-164a0059e6a8"
      },
      "source": [
        "q1 = data.quantile(0.25)\n",
        "q3 = data.quantile(0.75)\n",
        "iqr = q3 - q1\n",
        "iqr"
      ],
      "execution_count": 14,
      "outputs": [
        {
          "output_type": "execute_result",
          "data": {
            "text/plain": [
              "X    29.075\n",
              "Y    14.600\n",
              "dtype: float64"
            ]
          },
          "metadata": {
            "tags": []
          },
          "execution_count": 14
        }
      ]
    },
    {
      "cell_type": "code",
      "metadata": {
        "colab": {
          "base_uri": "https://localhost:8080/"
        },
        "id": "RGPE8z4xnWhJ",
        "outputId": "586f0a1f-4aae-4979-fc63-0cb0fdbc6eb4"
      },
      "source": [
        "data.shape"
      ],
      "execution_count": 15,
      "outputs": [
        {
          "output_type": "execute_result",
          "data": {
            "text/plain": [
              "(30, 2)"
            ]
          },
          "metadata": {
            "tags": []
          },
          "execution_count": 15
        }
      ]
    },
    {
      "cell_type": "code",
      "metadata": {
        "colab": {
          "base_uri": "https://localhost:8080/"
        },
        "id": "0quGhNoTnd62",
        "outputId": "97db4416-5f62-4f0b-937e-96d5ce8138cc"
      },
      "source": [
        "data_cleared = data[~((data < (q1 - 1.5 * iqr)) |(data > (q3 + 1.5 * iqr))).any(axis=1)]\n",
        "data_cleared.shape"
      ],
      "execution_count": 16,
      "outputs": [
        {
          "output_type": "execute_result",
          "data": {
            "text/plain": [
              "(22, 2)"
            ]
          },
          "metadata": {
            "tags": []
          },
          "execution_count": 16
        }
      ]
    },
    {
      "cell_type": "code",
      "metadata": {
        "colab": {
          "base_uri": "https://localhost:8080/",
          "height": 296
        },
        "id": "BWPvpojNnd1R",
        "outputId": "178a451f-218a-44be-8183-277a37bed1b5"
      },
      "source": [
        "sns.boxplot(x=data_cleared['X'])"
      ],
      "execution_count": 17,
      "outputs": [
        {
          "output_type": "execute_result",
          "data": {
            "text/plain": [
              "<matplotlib.axes._subplots.AxesSubplot at 0x7fc95dc30dd0>"
            ]
          },
          "metadata": {
            "tags": []
          },
          "execution_count": 17
        },
        {
          "output_type": "display_data",
          "data": {
            "image/png": "[encoded data removed]",
            "text/plain": [
              "<Figure size 432x288 with 1 Axes>"
            ]
          },
          "metadata": {
            "tags": [],
            "needs_background": "light"
          }
        }
      ]
    },
    {
      "cell_type": "code",
      "metadata": {
        "colab": {
          "base_uri": "https://localhost:8080/",
          "height": 296
        },
        "id": "hXxWpyqXndw7",
        "outputId": "275ea6d5-0d65-46f2-84e3-8d377735e03a"
      },
      "source": [
        "sns.boxplot(x=data_cleared['Y'])"
      ],
      "execution_count": 18,
      "outputs": [
        {
          "output_type": "execute_result",
          "data": {
            "text/plain": [
              "<matplotlib.axes._subplots.AxesSubplot at 0x7fc95d1110d0>"
            ]
          },
          "metadata": {
            "tags": []
          },
          "execution_count": 18
        },
        {
          "output_type": "display_data",
          "data": {
            "image/png": "[encoded data removed]",
            "text/plain": [
              "<Figure size 432x288 with 1 Axes>"
            ]
          },
          "metadata": {
            "tags": [],
            "needs_background": "light"
          }
        }
      ]
    },
    {
      "cell_type": "code",
      "metadata": {
        "colab": {
          "base_uri": "https://localhost:8080/",
          "height": 282
        },
        "id": "cOfoO7Z0nvX-",
        "outputId": "0094c61f-2003-4c72-a7aa-e52584855606"
      },
      "source": [
        "plt.scatter(data['X'],data['Y'])"
      ],
      "execution_count": 19,
      "outputs": [
        {
          "output_type": "execute_result",
          "data": {
            "text/plain": [
              "<matplotlib.collections.PathCollection at 0x7fc95d0d2ed0>"
            ]
          },
          "metadata": {
            "tags": []
          },
          "execution_count": 19
        },
        {
          "output_type": "display_data",
          "data": {
            "image/png": "[encoded data removed]",
            "text/plain": [
              "<Figure size 432x288 with 1 Axes>"
            ]
          },
          "metadata": {
            "tags": [],
            "needs_background": "light"
          }
        }
      ]
    },
    {
      "cell_type": "code",
      "metadata": {
        "colab": {
          "base_uri": "https://localhost:8080/",
          "height": 282
        },
        "id": "mBMte2NHn16P",
        "outputId": "6e6b251b-bb50-4088-9dea-93e2130167d4"
      },
      "source": [
        "plt.scatter(data_cleared['X'],data_cleared['Y'])"
      ],
      "execution_count": 20,
      "outputs": [
        {
          "output_type": "execute_result",
          "data": {
            "text/plain": [
              "<matplotlib.collections.PathCollection at 0x7fc95d06df10>"
            ]
          },
          "metadata": {
            "tags": []
          },
          "execution_count": 20
        },
        {
          "output_type": "display_data",
          "data": {
            "image/png": "[encoded data removed]",
            "text/plain": [
              "<Figure size 432x288 with 1 Axes>"
            ]
          },
          "metadata": {
            "tags": [],
            "needs_background": "light"
          }
        }
      ]
    },
    {
      "cell_type": "code",
      "metadata": {
        "colab": {
          "base_uri": "https://localhost:8080/"
        },
        "id": "FhAqpIPGHU5K",
        "outputId": "ae018f36-f099-452d-97b6-b8dd336e83c6"
      },
      "source": [
        "data2 = data.copy()\n",
        "data = data_cleared.copy()\n",
        "from sklearn.model_selection import train_test_split\n",
        "data_x = data['X']\n",
        "data_y = data['Y']\n",
        "data_x = (data_x - data_x.min())/(data_x.max() - data_x.min())\n",
        "data_y = (data_y - data_y.min())/(data_y.max() - data_y.min())\n",
        "data_x\n",
        "data_x = np.array(data_x)\n",
        "data_y = np.array(data_y)\n",
        "datas =[]\n",
        "for i in range(len(data_x)):\n",
        "  datas.append([data_x[i],data_y[i]])\n",
        "datas[1:10]"
      ],
      "execution_count": 24,
      "outputs": [
        {
          "output_type": "execute_result",
          "data": {
            "text/plain": [
              "[[0.45672191528545114, 0.364341085271318],\n",
              " [0.14917127071823194, 0.08785529715762205],\n",
              " [0.9226519337016574, 0.31524547803617503],\n",
              " [0.6206261510128914, 0.3462532299741592],\n",
              " [0.5027624309392265, 0.44444444444444364],\n",
              " [0.15101289134438312, 0.2816537467700249],\n",
              " [0.0, 0.3410852713178288],\n",
              " [0.009208103130755065, 0.34366925064599474],\n",
              " [0.22467771639042364, 0.44444444444444364]]"
            ]
          },
          "metadata": {
            "tags": []
          },
          "execution_count": 24
        }
      ]
    },
    {
      "cell_type": "code",
      "metadata": {
        "id": "4Y_DHKCaZDv9"
      },
      "source": [
        "data_train,data_test = train_test_split(datas,test_size=0.1)"
      ],
      "execution_count": 25,
      "outputs": []
    },
    {
      "cell_type": "code",
      "metadata": {
        "colab": {
          "base_uri": "https://localhost:8080/"
        },
        "id": "McZ1DAIWWk3p",
        "outputId": "ad17dfe1-954e-449b-fbf6-f24dfe82feda"
      },
      "source": [
        "data_train"
      ],
      "execution_count": 26,
      "outputs": [
        {
          "output_type": "execute_result",
          "data": {
            "text/plain": [
              "[[0.5027624309392265, 0.44444444444444364],\n",
              " [0.8121546961325966, 0.40310077519379856],\n",
              " [0.9042357274401472, 1.0],\n",
              " [0.14917127071823194, 0.08785529715762205],\n",
              " [0.7311233885819522, 0.4625322997416009],\n",
              " [0.3425414364640883, 0.2919896640826873],\n",
              " [0.45672191528545114, 0.364341085271318],\n",
              " [0.6206261510128914, 0.3462532299741592],\n",
              " [0.19337016574585636, 0.5271317829457353],\n",
              " [1.0, 0.4599483204134365],\n",
              " [0.6556169429097605, 0.0],\n",
              " [0.4217311233885818, 0.3204134366925055],\n",
              " [0.1878453038674034, 0.5116279069767424],\n",
              " [0.15101289134438312, 0.2816537467700249],\n",
              " [0.44014732965009196, 0.5116279069767424],\n",
              " [0.009208103130755065, 0.34366925064599474],\n",
              " [0.5948434622467771, 0.7493540051679578],\n",
              " [0.0, 0.3410852713178288],\n",
              " [0.22467771639042364, 0.44444444444444364]]"
            ]
          },
          "metadata": {
            "tags": []
          },
          "execution_count": 26
        }
      ]
    },
    {
      "cell_type": "code",
      "metadata": {
        "colab": {
          "base_uri": "https://localhost:8080/"
        },
        "id": "LPIGTXl8Bp-y",
        "outputId": "86d8c40a-b658-4b86-c3cb-718c10f39808"
      },
      "source": [
        "m = 1\n",
        "c = -1\n",
        "iter = 1\n",
        "epochs = 300\n",
        "alpha = 0.1\n",
        "error = []\n",
        "data_train"
      ],
      "execution_count": 27,
      "outputs": [
        {
          "output_type": "execute_result",
          "data": {
            "text/plain": [
              "[[0.5027624309392265, 0.44444444444444364],\n",
              " [0.8121546961325966, 0.40310077519379856],\n",
              " [0.9042357274401472, 1.0],\n",
              " [0.14917127071823194, 0.08785529715762205],\n",
              " [0.7311233885819522, 0.4625322997416009],\n",
              " [0.3425414364640883, 0.2919896640826873],\n",
              " [0.45672191528545114, 0.364341085271318],\n",
              " [0.6206261510128914, 0.3462532299741592],\n",
              " [0.19337016574585636, 0.5271317829457353],\n",
              " [1.0, 0.4599483204134365],\n",
              " [0.6556169429097605, 0.0],\n",
              " [0.4217311233885818, 0.3204134366925055],\n",
              " [0.1878453038674034, 0.5116279069767424],\n",
              " [0.15101289134438312, 0.2816537467700249],\n",
              " [0.44014732965009196, 0.5116279069767424],\n",
              " [0.009208103130755065, 0.34366925064599474],\n",
              " [0.5948434622467771, 0.7493540051679578],\n",
              " [0.0, 0.3410852713178288],\n",
              " [0.22467771639042364, 0.44444444444444364]]"
            ]
          },
          "metadata": {
            "tags": []
          },
          "execution_count": 27
        }
      ]
    },
    {
      "cell_type": "code",
      "metadata": {
        "id": "FmU7dVfrB3jA",
        "colab": {
          "base_uri": "https://localhost:8080/"
        },
        "outputId": "5fb646bd-ef7b-43cf-dba3-368fd2ddeba7"
      },
      "source": [
        "while (iter<=epochs):\n",
        "  der_m = 0\n",
        "  der_c = 0\n",
        "  err = 0\n",
        "  for i in range(0,len(data_train)):\n",
        "    der_m +=((data_train[i][1]-(m*data_train[i][0])-c))*(data_train[i][0])\n",
        "    der_c +=(data_train[i][1]-(m*data_train[i][0])-c)\n",
        "  err = (der_c)**2\n",
        "  err = (err)/(2*len(data_train))\n",
        "  error.append(err)\n",
        "  der_m = (-1)*(1/len(data_train))*der_m\n",
        "  der_c = (-1)*(1/len(data_train))*der_c\n",
        "  change_m = (-1)*alpha*der_m\n",
        "  change_c = (-1)*alpha*der_c\n",
        "  m = m + change_m\n",
        "  c = c + change_c\n",
        "  iter = iter + 1\n",
        "print(\"m=\",m,\"\\nc=\",c)"
      ],
      "execution_count": 28,
      "outputs": [
        {
          "output_type": "stream",
          "text": [
            "m= 0.3966369568038708 \n",
            "c= 0.2354807220826589\n"
          ],
          "name": "stdout"
        }
      ]
    },
    {
      "cell_type": "code",
      "metadata": {
        "colab": {
          "base_uri": "https://localhost:8080/"
        },
        "id": "IwAmGGMrezZv",
        "outputId": "d8edf9a5-220b-49e8-f7a3-7ab10ed2012b"
      },
      "source": [
        "data_test = np.array(data_test)\n",
        "data_test_x = data_test[:,0]\n",
        "print(data_test_x)\n",
        "data_test_y = data_test[:,1]\n",
        "data_test_y"
      ],
      "execution_count": 29,
      "outputs": [
        {
          "output_type": "stream",
          "text": [
            "[0.92265193 0.14917127 0.29834254]\n"
          ],
          "name": "stdout"
        },
        {
          "output_type": "execute_result",
          "data": {
            "text/plain": [
              "array([0.31524548, 0.25322997, 0.43927649])"
            ]
          },
          "metadata": {
            "tags": []
          },
          "execution_count": 29
        }
      ]
    },
    {
      "cell_type": "code",
      "metadata": {
        "colab": {
          "base_uri": "https://localhost:8080/"
        },
        "id": "seiiMMGybhaT",
        "outputId": "af076273-4fcd-4032-e4b6-e7648c938ad8"
      },
      "source": [
        "pred = []\n",
        "for i in range(len(data_test_x)):\n",
        "  print((m*data_test_x[i]) +c)\n",
        "  pred.append((m*data_test_x[i]) +c)"
      ],
      "execution_count": 30,
      "outputs": [
        {
          "output_type": "stream",
          "text": [
            "0.601438577255291\n",
            "0.2946475609429048\n",
            "0.35381439980315077\n"
          ],
          "name": "stdout"
        }
      ]
    },
    {
      "cell_type": "code",
      "metadata": {
        "colab": {
          "base_uri": "https://localhost:8080/"
        },
        "id": "G3sZxfAKzJE9",
        "outputId": "aafda931-1494-4faf-b477-0d72fa7d4564"
      },
      "source": [
        "mse = 0\n",
        "for i in range(0,len(data_test)):\n",
        "  mse += (data_test[i][1] - (m*data_test[i][0]) - c)**2\n",
        "mse = mse/len(data_test)\n",
        "print(\"Mean Square Error:\",mse)"
      ],
      "execution_count": 31,
      "outputs": [
        {
          "output_type": "stream",
          "text": [
            "Mean Square Error: 0.030308558225482073\n"
          ],
          "name": "stdout"
        }
      ]
    },
    {
      "cell_type": "code",
      "metadata": {
        "colab": {
          "base_uri": "https://localhost:8080/",
          "height": 295
        },
        "id": "CzqthBAtH181",
        "outputId": "17bb3a22-217a-4f8f-e1f1-f3d44950287f"
      },
      "source": [
        "plt.scatter(data_test_x,data_test_y,label=\"Original Data points\")\n",
        "plt.plot(data_test_x,pred,'r',label=\"predicted regression line\")\n",
        "plt.title(\"Linear Regression using Batch Gradient Descent\")\n",
        "plt.xlabel(\"Data x\")\n",
        "plt.ylabel(\"Data y\")\n",
        "plt.grid()\n",
        "plt.legend()\n",
        "plt.show()"
      ],
      "execution_count": 32,
      "outputs": [
        {
          "output_type": "display_data",
          "data": {
            "image/png": "[encoded data removed]",
            "text/plain": [
              "<Figure size 432x288 with 1 Axes>"
            ]
          },
          "metadata": {
            "tags": [],
            "needs_background": "light"
          }
        }
      ]
    },
    {
      "cell_type": "code",
      "metadata": {
        "colab": {
          "base_uri": "https://localhost:8080/"
        },
        "id": "zKb1473ls03G",
        "outputId": "96eab745-625c-4b72-c517-27a77639a802"
      },
      "source": [
        "data_train = pd.DataFrame(data_train)\n",
        "data_train_pred = m*data_train[0] + c\n",
        "data_train_pred "
      ],
      "execution_count": 33,
      "outputs": [
        {
          "output_type": "execute_result",
          "data": {
            "text/plain": [
              "0     0.434895\n",
              "1     0.557611\n",
              "2     0.594134\n",
              "3     0.294648\n",
              "4     0.525471\n",
              "5     0.371345\n",
              "6     0.416634\n",
              "7     0.481644\n",
              "8     0.312178\n",
              "9     0.632118\n",
              "10    0.495523\n",
              "11    0.402755\n",
              "12    0.309987\n",
              "13    0.295378\n",
              "14    0.410059\n",
              "15    0.239133\n",
              "16    0.471418\n",
              "17    0.235481\n",
              "18    0.324596\n",
              "Name: 0, dtype: float64"
            ]
          },
          "metadata": {
            "tags": []
          },
          "execution_count": 33
        }
      ]
    },
    {
      "cell_type": "code",
      "metadata": {
        "colab": {
          "base_uri": "https://localhost:8080/",
          "height": 295
        },
        "id": "9tviJrMkq33x",
        "outputId": "378bbb2a-a5fd-44f6-b83f-e443dcb03d96"
      },
      "source": [
        "plt.plot(data_train[0],data_train_pred,'red',label=\"Regression Line\")\n",
        "plt.scatter(data_train[0],data_train[1],label=\"original data points\")\n",
        "plt.xlabel(\"Pressure\")\n",
        "plt.ylabel(\"Weight of Liquid Nitrogen\")\n",
        "plt.legend()\n",
        "plt.grid()\n",
        "plt.title(\"Training Results Analysis\")\n",
        "plt.show()\n",
        "%matplotlib inline"
      ],
      "execution_count": 34,
      "outputs": [
        {
          "output_type": "display_data",
          "data": {
            "image/png": "[encoded data removed]",
            "text/plain": [
              "<Figure size 432x288 with 1 Axes>"
            ]
          },
          "metadata": {
            "tags": [],
            "needs_background": "light"
          }
        }
      ]
    },
    {
      "cell_type": "code",
      "metadata": {
        "colab": {
          "base_uri": "https://localhost:8080/",
          "height": 204
        },
        "id": "Vi9D6ZKhtZ3S",
        "outputId": "f48c97c4-ef0c-49db-8b54-0dd749559445"
      },
      "source": [
        "data_train.head()"
      ],
      "execution_count": 35,
      "outputs": [
        {
          "output_type": "execute_result",
          "data": {
            "text/html": [
              "<div>\n",
              "<style scoped>\n",
              "    .dataframe tbody tr th:only-of-type {\n",
              "        vertical-align: middle;\n",
              "    }\n",
              "\n",
              "    .dataframe tbody tr th {\n",
              "        vertical-align: top;\n",
              "    }\n",
              "\n",
              "    .dataframe thead th {\n",
              "        text-align: right;\n",
              "    }\n",
              "</style>\n",
              "<table border=\"1\" class=\"dataframe\">\n",
              "  <thead>\n",
              "    <tr style=\"text-align: right;\">\n",
              "      <th></th>\n",
              "      <th>0</th>\n",
              "      <th>1</th>\n",
              "    </tr>\n",
              "  </thead>\n",
              "  <tbody>\n",
              "    <tr>\n",
              "      <th>0</th>\n",
              "      <td>0.502762</td>\n",
              "      <td>0.444444</td>\n",
              "    </tr>\n",
              "    <tr>\n",
              "      <th>1</th>\n",
              "      <td>0.812155</td>\n",
              "      <td>0.403101</td>\n",
              "    </tr>\n",
              "    <tr>\n",
              "      <th>2</th>\n",
              "      <td>0.904236</td>\n",
              "      <td>1.000000</td>\n",
              "    </tr>\n",
              "    <tr>\n",
              "      <th>3</th>\n",
              "      <td>0.149171</td>\n",
              "      <td>0.087855</td>\n",
              "    </tr>\n",
              "    <tr>\n",
              "      <th>4</th>\n",
              "      <td>0.731123</td>\n",
              "      <td>0.462532</td>\n",
              "    </tr>\n",
              "  </tbody>\n",
              "</table>\n",
              "</div>"
            ],
            "text/plain": [
              "          0         1\n",
              "0  0.502762  0.444444\n",
              "1  0.812155  0.403101\n",
              "2  0.904236  1.000000\n",
              "3  0.149171  0.087855\n",
              "4  0.731123  0.462532"
            ]
          },
          "metadata": {
            "tags": []
          },
          "execution_count": 35
        }
      ]
    },
    {
      "cell_type": "code",
      "metadata": {
        "colab": {
          "base_uri": "https://localhost:8080/",
          "height": 295
        },
        "id": "WDyxpC0pVbNG",
        "outputId": "b7a6aec1-1d57-488b-e10a-e122c9166224"
      },
      "source": [
        "iters = np.arange(epochs)\n",
        "plt.plot(iters,error,color='m',label=\"error rate at ith iteration\")\n",
        "plt.legend()\n",
        "plt.xlabel(\"Number of iteration\")\n",
        "plt.ylabel(\"Error Rate at particular Iteration\")\n",
        "plt.title(\"Error Analysis\")\n",
        "plt.grid()\n",
        "plt.show()\n"
      ],
      "execution_count": 36,
      "outputs": [
        {
          "output_type": "display_data",
          "data": {
            "image/png": "[encoded data removed]",
            "text/plain": [
              "<Figure size 432x288 with 1 Axes>"
            ]
          },
          "metadata": {
            "tags": [],
            "needs_background": "light"
          }
        }
      ]
    },
    {
      "cell_type": "code",
      "metadata": {
        "colab": {
          "base_uri": "https://localhost:8080/"
        },
        "id": "uub3jwuGH6V-",
        "outputId": "daa6dce3-7a83-415b-faa0-374fb6588461"
      },
      "source": [
        "mse = 0\n",
        "mse = (data_train[1] - m*data_train[0] - c)**2\n",
        "mse.sum()/len(data_train)"
      ],
      "execution_count": 37,
      "outputs": [
        {
          "output_type": "execute_result",
          "data": {
            "text/plain": [
              "0.03977919037528458"
            ]
          },
          "metadata": {
            "tags": []
          },
          "execution_count": 37
        }
      ]
    },
    {
      "cell_type": "code",
      "metadata": {
        "id": "yh1HF02VJI0y"
      },
      "source": [
        "min_x = data2['X'].min()\n",
        "max_x = data2['X'].max()\n",
        "min_y = data2['Y'].min()\n",
        "max_y = data2['Y'].max()"
      ],
      "execution_count": 39,
      "outputs": []
    },
    {
      "cell_type": "code",
      "metadata": {
        "colab": {
          "base_uri": "https://localhost:8080/"
        },
        "id": "8WggG9sVS3Qi",
        "outputId": "a957c6e9-e8e6-4149-ddc7-3f01a6c05a37"
      },
      "source": [
        "input_x = float(input(\"Enter Pressure: \"))\n",
        "input_x = (input_x - min_x)/(max_x - min_x)\n",
        "output_y = m*input_x + c\n",
        "output_y = (output_y)*(max_y - min_y) + min_y\n",
        "output_y"
      ],
      "execution_count": 40,
      "outputs": [
        {
          "output_type": "stream",
          "text": [
            "Enter Pressure: 75.1\n"
          ],
          "name": "stdout"
        },
        {
          "output_type": "execute_result",
          "data": {
            "text/plain": [
              "504.7703524187446"
            ]
          },
          "metadata": {
            "tags": []
          },
          "execution_count": 40
        }
      ]
    }
  ]
}