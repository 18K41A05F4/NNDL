{
  "nbformat": 4,
  "nbformat_minor": 0,
  "metadata": {
    "colab": {
      "name": "Assignment3_Program.ipynb",
      "provenance": [],
      "collapsed_sections": [],
      "authorship_tag": "ABX9TyOldjpQGMv7xYXWSfcH0Vwq",
      "include_colab_link": true
    },
    "kernelspec": {
      "name": "python3",
      "display_name": "Python 3"
    }
  },
  "cells": [
    {
      "cell_type": "markdown",
      "metadata": {
        "id": "view-in-github",
        "colab_type": "text"
      },
      "source": [
        "<a href=\"https://colab.research.google.com/github/18K41A05F4/NNDL/blob/main/Assignment3_Program.ipynb\" target=\"_parent\"><img src=\"https://colab.research.google.com/assets/colab-badge.svg\" alt=\"Open In Colab\"/></a>"
      ]
    },
    {
      "cell_type": "code",
      "metadata": {
        "colab": {
          "base_uri": "https://localhost:8080/"
        },
        "id": "V2cuG9OJ2KLE",
        "outputId": "939e6d35-b827-4a29-cd47-c88c386c6b0f"
      },
      "source": [
        "x=[0.2,0.4,0.6,0.8]\r\n",
        "y=[3.4,3.8,4.2,4.6]\r\n",
        "m=1\r\n",
        "c=-1\r\n",
        "n=0.1\r\n",
        "ns=4\r\n",
        "epoches=100\r\n",
        "def diffm(m,c,x,y):\r\n",
        "  return -1*(y-(m*x)-c)*x\r\n",
        "def diffc(m,c,x,y):\r\n",
        "  return -1*(y-(m*x)-c)\r\n",
        "for i in range(epoches):\r\n",
        "  for j in range(ns):\r\n",
        "    deltam=-1*n*diffm(m,c,x[j],y[j])\r\n",
        "    deltac=-1*n*diffc(m,c,x[j],y[j])\r\n",
        "    m=m+deltam\r\n",
        "    c=c+deltac\r\n",
        "print(f'Value of m is {m}\\nValue of c is {c}')"
      ],
      "execution_count": null,
      "outputs": [
        {
          "output_type": "stream",
          "text": [
            "Value of m is 2.1388522737865148\n",
            "Value of c is 2.922605293889677\n"
          ],
          "name": "stdout"
        }
      ]
    }
  ]
}